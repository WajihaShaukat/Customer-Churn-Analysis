{
  "metadata": {
    "kernelspec": {
      "name": "python",
      "display_name": "Python (Pyodide)",
      "language": "python"
    },
    "language_info": {
      "codemirror_mode": {
        "name": "python",
        "version": 3
      },
      "file_extension": ".py",
      "mimetype": "text/x-python",
      "name": "python",
      "nbconvert_exporter": "python",
      "pygments_lexer": "ipython3",
      "version": "3.8"
    }
  },
  "nbformat_minor": 4,
  "nbformat": 4,
  "cells": [
    {
      "cell_type": "markdown",
      "source": "Reading Data",
      "metadata": {}
    },
    {
      "cell_type": "code",
      "source": "import pandas as pd\nimport numpy as np",
      "metadata": {
        "trusted": true
      },
      "outputs": [],
      "execution_count": 4
    },
    {
      "cell_type": "code",
      "source": "ds = pd.read_csv('customer churn data.csv')\nds.head(3)",
      "metadata": {
        "trusted": true
      },
      "outputs": [
        {
          "execution_count": 6,
          "output_type": "execute_result",
          "data": {
            "text/plain": "  customerID  gender  SeniorCitizen Partner Dependents  tenure PhoneService  \\\n0   CUST0000    Male              0      No        Yes      23           No   \n1   CUST0001  Female              0     Yes         No      43           No   \n2   CUST0002    Male              1      No         No      51          Yes   \n\n      MultipleLines InternetService       OnlineSecurity  ...  \\\n0  No phone service              No  No internet service  ...   \n1  No phone service             DSL                  Yes  ...   \n2                No             DSL                   No  ...   \n\n      DeviceProtection          TechSupport          StreamingTV  \\\n0  No internet service  No internet service  No internet service   \n1                  Yes                   No                  Yes   \n2                  Yes                  Yes                   No   \n\n       StreamingMovies        Contract PaperlessBilling     PaymentMethod  \\\n0  No internet service  Month-to-month              Yes     Bank transfer   \n1                   No  Month-to-month               No      Mailed check   \n2                   No        One year               No  Electronic check   \n\n  MonthlyCharges  TotalCharges  Churn  \n0          49.85       1146.55     No  \n1         100.70       4330.10    Yes  \n2          97.33       4963.83    Yes  \n\n[3 rows x 21 columns]",
            "text/html": "<div>\n<style scoped>\n    .dataframe tbody tr th:only-of-type {\n        vertical-align: middle;\n    }\n\n    .dataframe tbody tr th {\n        vertical-align: top;\n    }\n\n    .dataframe thead th {\n        text-align: right;\n    }\n</style>\n<table border=\"1\" class=\"dataframe\">\n  <thead>\n    <tr style=\"text-align: right;\">\n      <th></th>\n      <th>customerID</th>\n      <th>gender</th>\n      <th>SeniorCitizen</th>\n      <th>Partner</th>\n      <th>Dependents</th>\n      <th>tenure</th>\n      <th>PhoneService</th>\n      <th>MultipleLines</th>\n      <th>InternetService</th>\n      <th>OnlineSecurity</th>\n      <th>...</th>\n      <th>DeviceProtection</th>\n      <th>TechSupport</th>\n      <th>StreamingTV</th>\n      <th>StreamingMovies</th>\n      <th>Contract</th>\n      <th>PaperlessBilling</th>\n      <th>PaymentMethod</th>\n      <th>MonthlyCharges</th>\n      <th>TotalCharges</th>\n      <th>Churn</th>\n    </tr>\n  </thead>\n  <tbody>\n    <tr>\n      <th>0</th>\n      <td>CUST0000</td>\n      <td>Male</td>\n      <td>0</td>\n      <td>No</td>\n      <td>Yes</td>\n      <td>23</td>\n      <td>No</td>\n      <td>No phone service</td>\n      <td>No</td>\n      <td>No internet service</td>\n      <td>...</td>\n      <td>No internet service</td>\n      <td>No internet service</td>\n      <td>No internet service</td>\n      <td>No internet service</td>\n      <td>Month-to-month</td>\n      <td>Yes</td>\n      <td>Bank transfer</td>\n      <td>49.85</td>\n      <td>1146.55</td>\n      <td>No</td>\n    </tr>\n    <tr>\n      <th>1</th>\n      <td>CUST0001</td>\n      <td>Female</td>\n      <td>0</td>\n      <td>Yes</td>\n      <td>No</td>\n      <td>43</td>\n      <td>No</td>\n      <td>No phone service</td>\n      <td>DSL</td>\n      <td>Yes</td>\n      <td>...</td>\n      <td>Yes</td>\n      <td>No</td>\n      <td>Yes</td>\n      <td>No</td>\n      <td>Month-to-month</td>\n      <td>No</td>\n      <td>Mailed check</td>\n      <td>100.70</td>\n      <td>4330.10</td>\n      <td>Yes</td>\n    </tr>\n    <tr>\n      <th>2</th>\n      <td>CUST0002</td>\n      <td>Male</td>\n      <td>1</td>\n      <td>No</td>\n      <td>No</td>\n      <td>51</td>\n      <td>Yes</td>\n      <td>No</td>\n      <td>DSL</td>\n      <td>No</td>\n      <td>...</td>\n      <td>Yes</td>\n      <td>Yes</td>\n      <td>No</td>\n      <td>No</td>\n      <td>One year</td>\n      <td>No</td>\n      <td>Electronic check</td>\n      <td>97.33</td>\n      <td>4963.83</td>\n      <td>Yes</td>\n    </tr>\n  </tbody>\n</table>\n<p>3 rows × 21 columns</p>\n</div>"
          },
          "metadata": {}
        }
      ],
      "execution_count": 6
    },
    {
      "cell_type": "code",
      "source": "ds.shape",
      "metadata": {
        "trusted": true
      },
      "outputs": [
        {
          "execution_count": 7,
          "output_type": "execute_result",
          "data": {
            "text/plain": "(5880, 21)"
          },
          "metadata": {}
        }
      ],
      "execution_count": 7
    },
    {
      "cell_type": "code",
      "source": "ds.info()",
      "metadata": {
        "trusted": true
      },
      "outputs": [
        {
          "name": "stdout",
          "text": "<class 'pandas.core.frame.DataFrame'>\nRangeIndex: 5880 entries, 0 to 5879\nData columns (total 21 columns):\n #   Column            Non-Null Count  Dtype  \n---  ------            --------------  -----  \n 0   customerID        5880 non-null   object \n 1   gender            5880 non-null   object \n 2   SeniorCitizen     5880 non-null   int64  \n 3   Partner           5880 non-null   object \n 4   Dependents        5880 non-null   object \n 5   tenure            5880 non-null   int64  \n 6   PhoneService      5880 non-null   object \n 7   MultipleLines     5880 non-null   object \n 8   InternetService   5880 non-null   object \n 9   OnlineSecurity    5880 non-null   object \n 10  OnlineBackup      5880 non-null   object \n 11  DeviceProtection  5880 non-null   object \n 12  TechSupport       5880 non-null   object \n 13  StreamingTV       5880 non-null   object \n 14  StreamingMovies   5880 non-null   object \n 15  Contract          5880 non-null   object \n 16  PaperlessBilling  5880 non-null   object \n 17  PaymentMethod     5880 non-null   object \n 18  MonthlyCharges    5880 non-null   float64\n 19  TotalCharges      5880 non-null   float64\n 20  Churn             5880 non-null   object \ndtypes: float64(2), int64(2), object(17)\nmemory usage: 574.3+ KB\n",
          "output_type": "stream"
        }
      ],
      "execution_count": 8
    },
    {
      "cell_type": "markdown",
      "source": "Missing Values",
      "metadata": {}
    },
    {
      "cell_type": "code",
      "source": "(ds.isnull().sum()/ds.shape[0])*100",
      "metadata": {
        "trusted": true
      },
      "outputs": [
        {
          "execution_count": 11,
          "output_type": "execute_result",
          "data": {
            "text/plain": "customerID          0.0\ngender              0.0\nSeniorCitizen       0.0\nPartner             0.0\nDependents          0.0\ntenure              0.0\nPhoneService        0.0\nMultipleLines       0.0\nInternetService     0.0\nOnlineSecurity      0.0\nOnlineBackup        0.0\nDeviceProtection    0.0\nTechSupport         0.0\nStreamingTV         0.0\nStreamingMovies     0.0\nContract            0.0\nPaperlessBilling    0.0\nPaymentMethod       0.0\nMonthlyCharges      0.0\nTotalCharges        0.0\nChurn               0.0\ndtype: float64"
          },
          "metadata": {}
        }
      ],
      "execution_count": 11
    },
    {
      "cell_type": "code",
      "source": "import pandas as pd\nfrom sklearn.preprocessing import LabelEncoder\n\nle = LabelEncoder()",
      "metadata": {
        "trusted": true
      },
      "outputs": [],
      "execution_count": 14
    },
    {
      "cell_type": "code",
      "source": "ds['Partner_LE'] = le.fit_transform(ds['Partner'])\nds['Dependents_LE'] = le.fit_transform(ds['Dependents'])\nds['PhoneService_LE'] = le.fit_transform(ds['PhoneService'])\nds['MultipleLines_LE'] = le.fit_transform(ds['MultipleLines'])\nds['InternetService_LE'] = le.fit_transform(ds['InternetService'])\nds['OnlineSecurity_LE'] = le.fit_transform(ds['OnlineSecurity'])\nds['PaymentMethod_LE'] = le.fit_transform(ds['PaymentMethod'])\nds['Churn_LE'] = le.fit_transform(ds['Churn'])\nds.head(3)",
      "metadata": {
        "trusted": true
      },
      "outputs": [
        {
          "execution_count": 29,
          "output_type": "execute_result",
          "data": {
            "text/plain": "  customerID  gender  SeniorCitizen Partner Dependents  tenure PhoneService  \\\n0   CUST0000    Male              0      No        Yes      23           No   \n1   CUST0001  Female              0     Yes         No      43           No   \n2   CUST0002    Male              1      No         No      51          Yes   \n\n      MultipleLines InternetService       OnlineSecurity  ... TotalCharges  \\\n0  No phone service              No  No internet service  ...      1146.55   \n1  No phone service             DSL                  Yes  ...      4330.10   \n2                No             DSL                   No  ...      4963.83   \n\n  Churn Partner_LE Dependents_LE PhoneService_LE MultipleLines_LE  \\\n0    No          0             1               0                1   \n1   Yes          1             0               0                1   \n2   Yes          0             0               1                0   \n\n  InternetService_LE OnlineSecurity_LE  PaymentMethod_LE  Churn_LE  \n0                  2                 1                 0         0  \n1                  0                 2                 3         1  \n2                  0                 0                 2         1  \n\n[3 rows x 29 columns]",
            "text/html": "<div>\n<style scoped>\n    .dataframe tbody tr th:only-of-type {\n        vertical-align: middle;\n    }\n\n    .dataframe tbody tr th {\n        vertical-align: top;\n    }\n\n    .dataframe thead th {\n        text-align: right;\n    }\n</style>\n<table border=\"1\" class=\"dataframe\">\n  <thead>\n    <tr style=\"text-align: right;\">\n      <th></th>\n      <th>customerID</th>\n      <th>gender</th>\n      <th>SeniorCitizen</th>\n      <th>Partner</th>\n      <th>Dependents</th>\n      <th>tenure</th>\n      <th>PhoneService</th>\n      <th>MultipleLines</th>\n      <th>InternetService</th>\n      <th>OnlineSecurity</th>\n      <th>...</th>\n      <th>TotalCharges</th>\n      <th>Churn</th>\n      <th>Partner_LE</th>\n      <th>Dependents_LE</th>\n      <th>PhoneService_LE</th>\n      <th>MultipleLines_LE</th>\n      <th>InternetService_LE</th>\n      <th>OnlineSecurity_LE</th>\n      <th>PaymentMethod_LE</th>\n      <th>Churn_LE</th>\n    </tr>\n  </thead>\n  <tbody>\n    <tr>\n      <th>0</th>\n      <td>CUST0000</td>\n      <td>Male</td>\n      <td>0</td>\n      <td>No</td>\n      <td>Yes</td>\n      <td>23</td>\n      <td>No</td>\n      <td>No phone service</td>\n      <td>No</td>\n      <td>No internet service</td>\n      <td>...</td>\n      <td>1146.55</td>\n      <td>No</td>\n      <td>0</td>\n      <td>1</td>\n      <td>0</td>\n      <td>1</td>\n      <td>2</td>\n      <td>1</td>\n      <td>0</td>\n      <td>0</td>\n    </tr>\n    <tr>\n      <th>1</th>\n      <td>CUST0001</td>\n      <td>Female</td>\n      <td>0</td>\n      <td>Yes</td>\n      <td>No</td>\n      <td>43</td>\n      <td>No</td>\n      <td>No phone service</td>\n      <td>DSL</td>\n      <td>Yes</td>\n      <td>...</td>\n      <td>4330.10</td>\n      <td>Yes</td>\n      <td>1</td>\n      <td>0</td>\n      <td>0</td>\n      <td>1</td>\n      <td>0</td>\n      <td>2</td>\n      <td>3</td>\n      <td>1</td>\n    </tr>\n    <tr>\n      <th>2</th>\n      <td>CUST0002</td>\n      <td>Male</td>\n      <td>1</td>\n      <td>No</td>\n      <td>No</td>\n      <td>51</td>\n      <td>Yes</td>\n      <td>No</td>\n      <td>DSL</td>\n      <td>No</td>\n      <td>...</td>\n      <td>4963.83</td>\n      <td>Yes</td>\n      <td>0</td>\n      <td>0</td>\n      <td>1</td>\n      <td>0</td>\n      <td>0</td>\n      <td>0</td>\n      <td>2</td>\n      <td>1</td>\n    </tr>\n  </tbody>\n</table>\n<p>3 rows × 29 columns</p>\n</div>"
          },
          "metadata": {}
        }
      ],
      "execution_count": 29
    },
    {
      "cell_type": "code",
      "source": "ds.drop(columns=['Partner', 'Dependents','tenure','PhoneService','MultipleLines','InternetService',\t'OnlineSecurity','MultipleLines','InternetService','OnlineSecurity','Churn'\t], inplace=True)",
      "metadata": {
        "trusted": true
      },
      "outputs": [],
      "execution_count": 30
    },
    {
      "cell_type": "code",
      "source": "ds.describe()",
      "metadata": {
        "trusted": true
      },
      "outputs": [
        {
          "execution_count": 31,
          "output_type": "execute_result",
          "data": {
            "text/plain": "       SeniorCitizen  MonthlyCharges  TotalCharges   Partner_LE  \\\ncount    5880.000000     5880.000000   5880.000000  5880.000000   \nmean        0.500680       70.157779   2566.813165     0.509354   \nstd         0.500042       28.804615   1910.017743     0.499955   \nmin         0.000000       20.000000     20.030000     0.000000   \n25%         0.000000       45.717500   1020.217500     0.000000   \n50%         1.000000       70.155000   2136.445000     1.000000   \n75%         1.000000       95.457500   3767.665000     1.000000   \nmax         1.000000      119.990000   8589.600000     1.000000   \n\n       Dependents_LE  PhoneService_LE  MultipleLines_LE  InternetService_LE  \\\ncount    5880.000000      5880.000000       5880.000000         5880.000000   \nmean        0.489116         0.500170          1.014116            1.015816   \nstd         0.499924         0.500042          0.707146            0.821087   \nmin         0.000000         0.000000          0.000000            0.000000   \n25%         0.000000         0.000000          1.000000            0.000000   \n50%         0.000000         1.000000          1.000000            1.000000   \n75%         1.000000         1.000000          2.000000            2.000000   \nmax         1.000000         1.000000          2.000000            2.000000   \n\n       OnlineSecurity_LE  PaymentMethod_LE     Churn_LE  \ncount        5880.000000       5880.000000  5880.000000  \nmean            0.992687          1.507653     0.492857  \nstd             0.809314          1.110317     0.499991  \nmin             0.000000          0.000000     0.000000  \n25%             0.000000          1.000000     0.000000  \n50%             1.000000          2.000000     0.000000  \n75%             2.000000          2.000000     1.000000  \nmax             2.000000          3.000000     1.000000  ",
            "text/html": "<div>\n<style scoped>\n    .dataframe tbody tr th:only-of-type {\n        vertical-align: middle;\n    }\n\n    .dataframe tbody tr th {\n        vertical-align: top;\n    }\n\n    .dataframe thead th {\n        text-align: right;\n    }\n</style>\n<table border=\"1\" class=\"dataframe\">\n  <thead>\n    <tr style=\"text-align: right;\">\n      <th></th>\n      <th>SeniorCitizen</th>\n      <th>MonthlyCharges</th>\n      <th>TotalCharges</th>\n      <th>Partner_LE</th>\n      <th>Dependents_LE</th>\n      <th>PhoneService_LE</th>\n      <th>MultipleLines_LE</th>\n      <th>InternetService_LE</th>\n      <th>OnlineSecurity_LE</th>\n      <th>PaymentMethod_LE</th>\n      <th>Churn_LE</th>\n    </tr>\n  </thead>\n  <tbody>\n    <tr>\n      <th>count</th>\n      <td>5880.000000</td>\n      <td>5880.000000</td>\n      <td>5880.000000</td>\n      <td>5880.000000</td>\n      <td>5880.000000</td>\n      <td>5880.000000</td>\n      <td>5880.000000</td>\n      <td>5880.000000</td>\n      <td>5880.000000</td>\n      <td>5880.000000</td>\n      <td>5880.000000</td>\n    </tr>\n    <tr>\n      <th>mean</th>\n      <td>0.500680</td>\n      <td>70.157779</td>\n      <td>2566.813165</td>\n      <td>0.509354</td>\n      <td>0.489116</td>\n      <td>0.500170</td>\n      <td>1.014116</td>\n      <td>1.015816</td>\n      <td>0.992687</td>\n      <td>1.507653</td>\n      <td>0.492857</td>\n    </tr>\n    <tr>\n      <th>std</th>\n      <td>0.500042</td>\n      <td>28.804615</td>\n      <td>1910.017743</td>\n      <td>0.499955</td>\n      <td>0.499924</td>\n      <td>0.500042</td>\n      <td>0.707146</td>\n      <td>0.821087</td>\n      <td>0.809314</td>\n      <td>1.110317</td>\n      <td>0.499991</td>\n    </tr>\n    <tr>\n      <th>min</th>\n      <td>0.000000</td>\n      <td>20.000000</td>\n      <td>20.030000</td>\n      <td>0.000000</td>\n      <td>0.000000</td>\n      <td>0.000000</td>\n      <td>0.000000</td>\n      <td>0.000000</td>\n      <td>0.000000</td>\n      <td>0.000000</td>\n      <td>0.000000</td>\n    </tr>\n    <tr>\n      <th>25%</th>\n      <td>0.000000</td>\n      <td>45.717500</td>\n      <td>1020.217500</td>\n      <td>0.000000</td>\n      <td>0.000000</td>\n      <td>0.000000</td>\n      <td>1.000000</td>\n      <td>0.000000</td>\n      <td>0.000000</td>\n      <td>1.000000</td>\n      <td>0.000000</td>\n    </tr>\n    <tr>\n      <th>50%</th>\n      <td>1.000000</td>\n      <td>70.155000</td>\n      <td>2136.445000</td>\n      <td>1.000000</td>\n      <td>0.000000</td>\n      <td>1.000000</td>\n      <td>1.000000</td>\n      <td>1.000000</td>\n      <td>1.000000</td>\n      <td>2.000000</td>\n      <td>0.000000</td>\n    </tr>\n    <tr>\n      <th>75%</th>\n      <td>1.000000</td>\n      <td>95.457500</td>\n      <td>3767.665000</td>\n      <td>1.000000</td>\n      <td>1.000000</td>\n      <td>1.000000</td>\n      <td>2.000000</td>\n      <td>2.000000</td>\n      <td>2.000000</td>\n      <td>2.000000</td>\n      <td>1.000000</td>\n    </tr>\n    <tr>\n      <th>max</th>\n      <td>1.000000</td>\n      <td>119.990000</td>\n      <td>8589.600000</td>\n      <td>1.000000</td>\n      <td>1.000000</td>\n      <td>1.000000</td>\n      <td>2.000000</td>\n      <td>2.000000</td>\n      <td>2.000000</td>\n      <td>3.000000</td>\n      <td>1.000000</td>\n    </tr>\n  </tbody>\n</table>\n</div>"
          },
          "metadata": {}
        }
      ],
      "execution_count": 31
    },
    {
      "cell_type": "code",
      "source": "ds['Churn_LE'].unique()",
      "metadata": {
        "trusted": true
      },
      "outputs": [
        {
          "execution_count": 33,
          "output_type": "execute_result",
          "data": {
            "text/plain": "array([0, 1])"
          },
          "metadata": {}
        }
      ],
      "execution_count": 33
    },
    {
      "cell_type": "code",
      "source": "value_counts = ds['Churn_LE'].value_counts()\ntotal_count = len(ds)\nper = (value_counts / total_count) * 100\nper",
      "metadata": {
        "trusted": true
      },
      "outputs": [
        {
          "execution_count": 34,
          "output_type": "execute_result",
          "data": {
            "text/plain": "Churn_LE\n0    50.714286\n1    49.285714\nName: count, dtype: float64"
          },
          "metadata": {}
        }
      ],
      "execution_count": 34
    },
    {
      "cell_type": "markdown",
      "source": "It means 50.714286 are still customers and 49.285714 are not",
      "metadata": {}
    },
    {
      "cell_type": "code",
      "source": "ds['SeniorCitizen'].unique()",
      "metadata": {
        "trusted": true
      },
      "outputs": [
        {
          "execution_count": 35,
          "output_type": "execute_result",
          "data": {
            "text/plain": "array([0, 1], dtype=int64)"
          },
          "metadata": {}
        }
      ],
      "execution_count": 35
    },
    {
      "cell_type": "code",
      "source": "value_count = ds['SeniorCitizen'].value_counts()\ntotal_count2 = len(ds)\nperr = (value_count / total_count2) * 100\nperr",
      "metadata": {
        "trusted": true
      },
      "outputs": [
        {
          "execution_count": 36,
          "output_type": "execute_result",
          "data": {
            "text/plain": "SeniorCitizen\n1    50.068027\n0    49.931973\nName: count, dtype: float64"
          },
          "metadata": {}
        }
      ],
      "execution_count": 36
    },
    {
      "cell_type": "markdown",
      "source": " 50.068027 are senior citizens and 49.931973 are not",
      "metadata": {}
    },
    {
      "cell_type": "code",
      "source": "churns = ds[ds['Churn_LE'] == 1] \nchurn_counts = churns['SeniorCitizen'].value_counts()\ntotal_churns = churn_counts.sum()\nchurn_percentages = (churn_counts / total_churns) * 100\nresult = pd.DataFrame({'Count': churn_counts, 'Percentage': churn_percentages})\nresult.index = ['Non-Senior Citizen (0)', 'Senior Citizen (1)']\nresult",
      "metadata": {
        "trusted": true
      },
      "outputs": [
        {
          "execution_count": 39,
          "output_type": "execute_result",
          "data": {
            "text/plain": "                        Count  Percentage\nNon-Senior Citizen (0)   1454   50.172533\nSenior Citizen (1)       1444   49.827467",
            "text/html": "<div>\n<style scoped>\n    .dataframe tbody tr th:only-of-type {\n        vertical-align: middle;\n    }\n\n    .dataframe tbody tr th {\n        vertical-align: top;\n    }\n\n    .dataframe thead th {\n        text-align: right;\n    }\n</style>\n<table border=\"1\" class=\"dataframe\">\n  <thead>\n    <tr style=\"text-align: right;\">\n      <th></th>\n      <th>Count</th>\n      <th>Percentage</th>\n    </tr>\n  </thead>\n  <tbody>\n    <tr>\n      <th>Non-Senior Citizen (0)</th>\n      <td>1454</td>\n      <td>50.172533</td>\n    </tr>\n    <tr>\n      <th>Senior Citizen (1)</th>\n      <td>1444</td>\n      <td>49.827467</td>\n    </tr>\n  </tbody>\n</table>\n</div>"
          },
          "metadata": {}
        }
      ],
      "execution_count": 39
    },
    {
      "cell_type": "code",
      "source": "churns = ds[ds['Churn_LE'] == 1]\nnot_churns = ds[ds['Churn_LE'] == 0]\n\nchurn_counts = churns['SeniorCitizen'].value_counts().reindex([0, 1], fill_value=0)\nnot_churn_counts = not_churns['SeniorCitizen'].value_counts().reindex([0, 1], fill_value=0)\n\ntotal_churns = churn_counts.sum()\ntotal_not_churns = not_churn_counts.sum()\n\nchurn_percentages = (churn_counts / total_churns) * 100\nnot_churn_percentages = (not_churn_counts / total_not_churns) * 100\n\nresult = pd.DataFrame({\n    'Churn Count': churn_counts,\n    'Churn %': churn_percentages,\n    'Not Churn Count': not_churn_counts,\n    'Not Churn %': not_churn_percentages\n})\n\n# Set index labels\nresult.index = ['Not Senior Citizen (0)', 'Senior Citizen (1)']\nresult\n",
      "metadata": {
        "trusted": true
      },
      "outputs": [
        {
          "execution_count": 40,
          "output_type": "execute_result",
          "data": {
            "text/plain": "                        Churn Count    Churn %  Not Churn Count  Not Churn %\nNot Senior Citizen (0)         1454  50.172533             1482    49.698189\nSenior Citizen (1)             1444  49.827467             1500    50.301811",
            "text/html": "<div>\n<style scoped>\n    .dataframe tbody tr th:only-of-type {\n        vertical-align: middle;\n    }\n\n    .dataframe tbody tr th {\n        vertical-align: top;\n    }\n\n    .dataframe thead th {\n        text-align: right;\n    }\n</style>\n<table border=\"1\" class=\"dataframe\">\n  <thead>\n    <tr style=\"text-align: right;\">\n      <th></th>\n      <th>Churn Count</th>\n      <th>Churn %</th>\n      <th>Not Churn Count</th>\n      <th>Not Churn %</th>\n    </tr>\n  </thead>\n  <tbody>\n    <tr>\n      <th>Not Senior Citizen (0)</th>\n      <td>1454</td>\n      <td>50.172533</td>\n      <td>1482</td>\n      <td>49.698189</td>\n    </tr>\n    <tr>\n      <th>Senior Citizen (1)</th>\n      <td>1444</td>\n      <td>49.827467</td>\n      <td>1500</td>\n      <td>50.301811</td>\n    </tr>\n  </tbody>\n</table>\n</div>"
          },
          "metadata": {}
        }
      ],
      "execution_count": 40
    },
    {
      "cell_type": "code",
      "source": "ds['Partner_LE'].unique()",
      "metadata": {
        "trusted": true
      },
      "outputs": [
        {
          "execution_count": 41,
          "output_type": "execute_result",
          "data": {
            "text/plain": "array([0, 1])"
          },
          "metadata": {}
        }
      ],
      "execution_count": 41
    },
    {
      "cell_type": "code",
      "source": "",
      "metadata": {
        "trusted": true
      },
      "outputs": [],
      "execution_count": null
    }
  ]
}